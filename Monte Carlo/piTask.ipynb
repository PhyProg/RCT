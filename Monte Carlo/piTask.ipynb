{
 "cells": [
  {
   "cell_type": "markdown",
   "metadata": {},
   "source": [
    "# Estimation of pi using Monte Carlo method"
   ]
  },
  {
   "cell_type": "markdown",
   "metadata": {},
   "source": [
    "**Statement of problem**\n",
    "\n",
    "Let two random variables $X$ and $Y$ be in $[-1,1]$ and distributed uniformly. Probability that point given with coordinates $(X, Y)$ lies in unit circle (i.e. $X^2 + Y^2 < 1$) is:\n",
    "\n",
    "\\begin{equation}\n",
    "p = \\frac{S_C}{S_S} = \\frac{r^2 \\pi}{a^2} = \\frac{\\pi}{4}\n",
    "\\end{equation}"
   ]
  },
  {
   "cell_type": "markdown",
   "metadata": {},
   "source": [
    "**Method**\n",
    "\n",
    "Generate $N$ pairs of $(X, Y)$ and calculate how many of them lay in unit circle, $N_<$. Then estimate probability that point is in circle by:\n",
    "\n",
    "\\begin{equation}\n",
    "p_< = \\frac{N_<}{N}\n",
    "\\end{equation}\n",
    "\n",
    "By law of large numbers, this number will converge to $p$ as $N \\to \\infty$. Hence, our estimation of $\\pi$ is:\n",
    "\n",
    "\\begin{equation}\n",
    "\\hat \\pi = 4p_< \n",
    "\\end{equation}"
   ]
  },
  {
   "cell_type": "markdown",
   "metadata": {},
   "source": [
    "**Tasks**\n",
    "\n",
    "1. Generate $N$ pairs of $(X, Y)$, calculate for each $N$ how many of them are in unit circle $N<$. Choose $N$ so that you are able to see how $\\hat \\pi$ approaches $\\pi$ by increasing $N$. (for example, use $N$ log-scaled)\n",
    "\n",
    "2. Save data as array with informations: how many points have been used and estimation of pi.\n",
    "\n",
    "3. Plot the data."
   ]
  },
  {
   "cell_type": "code",
   "execution_count": null,
   "metadata": {},
   "outputs": [],
   "source": []
  }
 ],
 "metadata": {
  "kernelspec": {
   "display_name": "Python 3",
   "language": "python",
   "name": "python3"
  },
  "language_info": {
   "codemirror_mode": {
    "name": "ipython",
    "version": 3
   },
   "file_extension": ".py",
   "mimetype": "text/x-python",
   "name": "python",
   "nbconvert_exporter": "python",
   "pygments_lexer": "ipython3",
   "version": "3.6.5"
  }
 },
 "nbformat": 4,
 "nbformat_minor": 2
}
